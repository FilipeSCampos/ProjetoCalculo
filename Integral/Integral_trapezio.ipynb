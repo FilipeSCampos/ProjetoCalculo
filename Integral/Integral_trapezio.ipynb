{
 "cells": [
  {
   "cell_type": "code",
   "execution_count": null,
   "id": "be3f59a4",
   "metadata": {},
   "outputs": [],
   "source": [
    "!pip install pandas \n",
    "!pip install numpy\n",
    "!pip install scipy"
   ]
  },
  {
   "cell_type": "code",
   "execution_count": null,
   "id": "bb8138f4",
   "metadata": {},
   "outputs": [],
   "source": [
    "import pandas as pd\n",
    "import numpy as np\n",
    "import scipy.integrate\n",
    "from scipy.integrate import trapz"
   ]
  },
  {
   "cell_type": "markdown",
   "id": "7b5b6ae7",
   "metadata": {},
   "source": [
    "## Passando o arquivo do excel pro pandas"
   ]
  },
  {
   "cell_type": "code",
   "execution_count": null,
   "id": "e60e30fe",
   "metadata": {
    "scrolled": true
   },
   "outputs": [],
   "source": [
    "data = pd.read_excel('Caminho_do_arquivo.xlsx')\n",
    "display(data)"
   ]
  },
  {
   "cell_type": "markdown",
   "id": "32f60bfa",
   "metadata": {},
   "source": [
    "## Separando as colunas definindo o h e o N"
   ]
  },
  {
   "cell_type": "code",
   "execution_count": null,
   "id": "d733c383",
   "metadata": {
    "scrolled": false
   },
   "outputs": [],
   "source": [
    "a = x[0] \n",
    "b = x[-1] \n",
    "N = 20\n",
    "h = (b-a)/N \n",
    "x = data['X'].values\n",
    "y = data['F(X)'].values\n",
    "display(x)\n",
    "display(y)\n",
    "print(h)"
   ]
  },
  {
   "cell_type": "markdown",
   "id": "3962cea9",
   "metadata": {},
   "source": [
    "## Caso de um erro muito alto"
   ]
  },
  {
   "cell_type": "code",
   "execution_count": null,
   "id": "f6f354cd",
   "metadata": {},
   "outputs": [],
   "source": [
    "#caso o valor do scipy fique crazy crazy\n",
    "soma = np.sum(y)\n",
    "integral1 = soma*h\n",
    "\n",
    "print(np.sum(y))\n",
    "print(integral1)"
   ]
  },
  {
   "cell_type": "markdown",
   "id": "59111f6e",
   "metadata": {},
   "source": [
    "## Usando a função pronta do scipy"
   ]
  },
  {
   "cell_type": "code",
   "execution_count": null,
   "id": "4650f4cb",
   "metadata": {
    "scrolled": true
   },
   "outputs": [],
   "source": [
    "#utilizando o scipy\n",
    "integral = trapz(y,x)\n",
    "print('O valor da integral é:', integral)"
   ]
  }
 ],
 "metadata": {
  "kernelspec": {
   "display_name": "Python 3 (ipykernel)",
   "language": "python",
   "name": "python3"
  },
  "language_info": {
   "codemirror_mode": {
    "name": "ipython",
    "version": 3
   },
   "file_extension": ".py",
   "mimetype": "text/x-python",
   "name": "python",
   "nbconvert_exporter": "python",
   "pygments_lexer": "ipython3",
   "version": "3.9.12"
  }
 },
 "nbformat": 4,
 "nbformat_minor": 5
}
