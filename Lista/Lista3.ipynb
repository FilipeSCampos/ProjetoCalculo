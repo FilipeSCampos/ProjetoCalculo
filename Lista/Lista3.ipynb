{
 "cells": [
  {
   "cell_type": "code",
   "execution_count": 3,
   "id": "511f0f2d",
   "metadata": {},
   "outputs": [],
   "source": [
    "import matplotlib.pyplot as plt\n",
    "import pandas as pd\n",
    "import numpy as np\n",
    "import scipy.integrate\n",
    "from scipy.integrate import trapz"
   ]
  },
  {
   "cell_type": "markdown",
   "id": "de7a0eab",
   "metadata": {},
   "source": [
    "## Questão 3 Lista 3"
   ]
  },
  {
   "cell_type": "code",
   "execution_count": 46,
   "id": "bbf5cc6f",
   "metadata": {},
   "outputs": [
    {
     "data": {
      "text/html": [
       "<div>\n",
       "<style scoped>\n",
       "    .dataframe tbody tr th:only-of-type {\n",
       "        vertical-align: middle;\n",
       "    }\n",
       "\n",
       "    .dataframe tbody tr th {\n",
       "        vertical-align: top;\n",
       "    }\n",
       "\n",
       "    .dataframe thead th {\n",
       "        text-align: right;\n",
       "    }\n",
       "</style>\n",
       "<table border=\"1\" class=\"dataframe\">\n",
       "  <thead>\n",
       "    <tr style=\"text-align: right;\">\n",
       "      <th></th>\n",
       "      <th>X</th>\n",
       "      <th>F(x)</th>\n",
       "    </tr>\n",
       "  </thead>\n",
       "  <tbody>\n",
       "    <tr>\n",
       "      <th>0</th>\n",
       "      <td>3</td>\n",
       "      <td>5.403023</td>\n",
       "    </tr>\n",
       "    <tr>\n",
       "      <th>1</th>\n",
       "      <td>4</td>\n",
       "      <td>3.999039</td>\n",
       "    </tr>\n",
       "    <tr>\n",
       "      <th>2</th>\n",
       "      <td>5</td>\n",
       "      <td>-2.488812</td>\n",
       "    </tr>\n",
       "  </tbody>\n",
       "</table>\n",
       "</div>"
      ],
      "text/plain": [
       "   X      F(x)\n",
       "0  3  5.403023\n",
       "1  4  3.999039\n",
       "2  5 -2.488812"
      ]
     },
     "metadata": {},
     "output_type": "display_data"
    }
   ],
   "source": [
    "data = pd.read_excel('LISTA3questao3.xlsx')\n",
    "display(data)"
   ]
  },
  {
   "cell_type": "code",
   "execution_count": 68,
   "id": "fed76583",
   "metadata": {},
   "outputs": [
    {
     "name": "stdout",
     "output_type": "stream",
     "text": [
      "0.2\n",
      "0.04\n"
     ]
    }
   ],
   "source": [
    "x = data['X'].values\n",
    "y = data['F(x)'].values\n",
    "a = x[0] \n",
    "b = x[-1] \n",
    "N = 10\n",
    "N2 = 50\n",
    "h1 = (b-a)/N\n",
    "h2 = (b-a)/N2\n",
    "print(h1)\n",
    "print(h2)"
   ]
  },
  {
   "cell_type": "code",
   "execution_count": 69,
   "id": "60545214",
   "metadata": {},
   "outputs": [
    {
     "name": "stdout",
     "output_type": "stream",
     "text": [
      "1.3826499112916903\n",
      "0.2765299822583381\n"
     ]
    }
   ],
   "source": [
    "#Retangulos\n",
    "soma = np.sum(y)\n",
    "integral1 = soma*h1\n",
    "integral2 = soma*h2\n",
    "print(integral1)\n",
    "print(integral2)"
   ]
  },
  {
   "cell_type": "code",
   "execution_count": 70,
   "id": "8a677344",
   "metadata": {},
   "outputs": [
    {
     "name": "stdout",
     "output_type": "stream",
     "text": [
      "1.0912288302609272\n",
      "0.21824576605218543\n"
     ]
    }
   ],
   "source": [
    "#Trapezios\n",
    "integral1 = ((y[0] + y[1]*2 + y[2])/2) * h1\n",
    "integral2 = ((y[0] + y[1]*2 + y[2])/2) * h2\n",
    "print(integral1)\n",
    "print(integral2)"
   ]
  },
  {
   "cell_type": "code",
   "execution_count": 38,
   "id": "6c386f04",
   "metadata": {},
   "outputs": [
    {
     "name": "stdout",
     "output_type": "stream",
     "text": [
      "O valor da integral é: 5.456144151304636\n"
     ]
    }
   ],
   "source": [
    "integral = trapz(y,x)\n",
    "print('O valor da integral é:', integral)"
   ]
  },
  {
   "cell_type": "markdown",
   "id": "fbf44632",
   "metadata": {},
   "source": [
    "## Questão 6 "
   ]
  },
  {
   "cell_type": "markdown",
   "id": "215c9a80",
   "metadata": {},
   "source": [
    "### Fazer o gráfico da função no intervalo definido pela integral e calcular o valor da integral (método dos\n",
    "### retângulos ou trapézios) (N=50)\n",
    "#### Comparar os resultados com o valor exato da integração 𝐼 =  6,2936507\n",
    "#### Resultado com metodo dos retangulos para N = 50 𝐼 = 0.2765299822583381\n",
    "#### Resultado com metodo dos trapezios para N = 50 𝐼 = 0.21824576605218543"
   ]
  },
  {
   "cell_type": "code",
   "execution_count": 31,
   "id": "a0490b35",
   "metadata": {},
   "outputs": [
    {
     "data": {
      "image/png": "[encoded data removed]",
      "text/plain": [
       "<Figure size 640x480 with 1 Axes>"
      ]
     },
     "metadata": {},
     "output_type": "display_data"
    }
   ],
   "source": [
    "plt.plot(x, y, color='orange')\n",
    "plt.fill_between(x, y, color='orange', alpha=0.2)\n",
    "plt.xlabel('X(m)')\n",
    "plt.ylabel('F(x)')\n",
    "plt.title('Gráfico da área')\n",
    "plt.show()"
   ]
  }
 ],
 "metadata": {
  "kernelspec": {
   "display_name": "Python 3 (ipykernel)",
   "language": "python",
   "name": "python3"
  },
  "language_info": {
   "codemirror_mode": {
    "name": "ipython",
    "version": 3
   },
   "file_extension": ".py",
   "mimetype": "text/x-python",
   "name": "python",
   "nbconvert_exporter": "python",
   "pygments_lexer": "ipython3",
   "version": "3.9.13"
  }
 },
 "nbformat": 4,
 "nbformat_minor": 5
}
