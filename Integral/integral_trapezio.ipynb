{
 "cells": [
  {
   "cell_type": "markdown",
   "id": "a108ff42",
   "metadata": {},
   "source": [
    "### Importando as bibliotecas necessárias"
   ]
  },
  {
   "cell_type": "code",
   "execution_count": null,
   "id": "a51adc98",
   "metadata": {},
   "outputs": [],
   "source": [
    "!pip install pandas \n",
    "!pip install numpy\n",
    "!pip install scipy\n",
    "import pandas as pd\n",
    "import numpy as np\n",
    "import scipy.integrate\n",
    "from scipy.integrate import trapz"
   ]
  },
  {
   "cell_type": "markdown",
   "id": "174d0c39",
   "metadata": {},
   "source": [
    "### Lendo o arquivo excel com os dados da função a ser integrada"
   ]
  },
  {
   "cell_type": "code",
   "execution_count": null,
   "id": "17dee137",
   "metadata": {},
   "outputs": [],
   "source": [
    "data = pd.read_excel('Caminho_do_arquivo.xlsx')"
   ]
  },
  {
   "cell_type": "markdown",
   "id": "4930e1bb",
   "metadata": {},
   "source": [
    "### Exibindo os dados"
   ]
  },
  {
   "cell_type": "code",
   "execution_count": null,
   "id": "80ddf1e6",
   "metadata": {},
   "outputs": [],
   "source": [
    "display(data)"
   ]
  },
  {
   "cell_type": "markdown",
   "id": "48ce7e4c",
   "metadata": {},
   "source": [
    "### Definindo as variáveis para o cálculo da integral"
   ]
  },
  {
   "cell_type": "code",
   "execution_count": null,
   "id": "090af082",
   "metadata": {},
   "outputs": [],
   "source": [
    "a = x[0] \n",
    "b = x[-1] \n",
    "N = 20\n",
    "h = (b-a)/N \n",
    "x = data['X'].values\n",
    "y = data['F(X)'].values"
   ]
  },
  {
   "cell_type": "markdown",
   "id": "b5a481b6",
   "metadata": {},
   "source": [
    "### Exibindo os valores das variáveis"
   ]
  },
  {
   "cell_type": "code",
   "execution_count": null,
   "id": "5dc5ba70",
   "metadata": {},
   "outputs": [],
   "source": [
    "display(x)\n",
    "display(y)\n",
    "print(h)"
   ]
  },
  {
   "cell_type": "markdown",
   "id": "80e25c77",
   "metadata": {},
   "source": [
    "### Calculando a integral manualmente"
   ]
  },
  {
   "cell_type": "code",
   "execution_count": null,
   "id": "9b737180",
   "metadata": {},
   "outputs": [],
   "source": [
    "soma = np.sum(y)\n",
    "integral1 = soma*h\n",
    "print(np.sum(y))\n",
    "print(integral1)\n"
   ]
  },
  {
   "cell_type": "markdown",
   "id": "32bc3100",
   "metadata": {},
   "source": [
    "### Calculando a integral utilizando a função trapz do scipy"
   ]
  },
  {
   "cell_type": "code",
   "execution_count": null,
   "id": "efd3a13f",
   "metadata": {},
   "outputs": [],
   "source": [
    "integral = trapz(y,x)\n",
    "print('O valor da integral é:', integral)"
   ]
  }
 ],
 "metadata": {
  "kernelspec": {
   "display_name": "Python 3 (ipykernel)",
   "language": "python",
   "name": "python3"
  },
  "language_info": {
   "codemirror_mode": {
    "name": "ipython",
    "version": 3
   },
   "file_extension": ".py",
   "mimetype": "text/x-python",
   "name": "python",
   "nbconvert_exporter": "python",
   "pygments_lexer": "ipython3",
   "version": "3.9.13"
  }
 },
 "nbformat": 4,
 "nbformat_minor": 5
}
